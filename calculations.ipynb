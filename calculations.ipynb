{
 "cells": [
  {
   "cell_type": "markdown",
   "source": [
    "# Bærekraftsmål 1"
   ],
   "metadata": {
    "collapsed": false
   },
   "id": "d66a27b517c8fab6"
  },
  {
   "cell_type": "code",
   "execution_count": 1,
   "outputs": [],
   "source": [
    "import matplotlib.pyplot as plt\n",
    "import numpy as np\n",
    "import pandas as pd\n",
    "\n",
    "electricity_emission = 11e-3 # kg CO2/kWh (source: https://www.nve.no/nytt-fra-nve/nyheter-energi/lavt-klimagassutslipp-knyttet-til-norsk-stroemforbruk-i-2021/\n",
    "diesel_emission = 2.66 # kg CO2/litre (source: https://www.miljodirektoratet.no/ansvarsomrader/klima/for-myndigheter/kutte-utslipp-av-klimagasser/klima-og-energiplanlegging/tabeller-for-omregning-fra-energivarer-til-kwh/\n",
    "feed_emission = 2.3 # CO2e/kg (source: sintef report page 57)"
   ],
   "metadata": {
    "collapsed": false,
    "ExecuteTime": {
     "end_time": "2024-04-24T06:48:36.381850Z",
     "start_time": "2024-04-24T06:48:31.573465300Z"
    }
   },
   "id": "d6824c81b572dd4c"
  },
  {
   "cell_type": "markdown",
   "source": [
    "### Konvensjonelle sjøbaserte anlegg"
   ],
   "metadata": {
    "collapsed": false
   },
   "id": "1feb5a0686b8db86"
  },
  {
   "cell_type": "markdown",
   "source": [
    "#### Emissions fish farm equipment"
   ],
   "metadata": {
    "collapsed": false
   },
   "id": "b7ea8b27acf3f7b3"
  },
  {
   "cell_type": "code",
   "execution_count": 3,
   "outputs": [
    {
     "name": "stdout",
     "output_type": "stream",
     "text": [
      "0.028399999999999998\n",
      "Total emission for fish farm equipment is 0.11 kg CO2e/kg lw produced\n"
     ]
    }
   ],
   "source": [
    "polypropylene = 0.011 # kg /kg lw (source: sintef report page 44)\n",
    "polyethylene = 0.011 # kg /kg lw (source: sintef report page 44)\n",
    "chromium_steel = 0.0019 # kg /kg lw (source: sintef report page 44)\n",
    "low_alloyed_steel = 0.0045 # kg /kg lw (source: sintef report page 44)\n",
    "steel = chromium_steel + low_alloyed_steel\n",
    "\n",
    "total_mass = polypropylene + polyethylene + steel\n",
    "print(total_mass)\n",
    "\n",
    "polypropylene_emission = 3.5 # https://www.greenmatch.co.uk/polypropylene-environmental-impact\n",
    "polyethylene_emission = 6 # same source as above\n",
    "steel_emission = 1.4 # kg CO2/kg (source: https://www.sustainable-ships.org/stories/2022/carbon-footprint-steel)\n",
    "\n",
    "total_emission_fish_farm_equipment = polypropylene * polypropylene_emission + polyethylene * polyethylene_emission + steel * steel_emission\n",
    "\n",
    "print(f\"Total emission for fish farm equipment is {round(total_emission_fish_farm_equipment, 2)} kg CO2e/kg lw produced\")"
   ],
   "metadata": {
    "collapsed": false,
    "ExecuteTime": {
     "end_time": "2024-04-24T06:50:00.919350100Z",
     "start_time": "2024-04-24T06:50:00.886428700Z"
    }
   },
   "id": "cc67ad6da9081227"
  },
  {
   "cell_type": "markdown",
   "source": [
    "#### Base case"
   ],
   "metadata": {
    "collapsed": false
   },
   "id": "29aa819c6bfe3836"
  },
  {
   "cell_type": "code",
   "execution_count": 4,
   "outputs": [
    {
     "name": "stdout",
     "output_type": "stream",
     "text": [
      "Total emission for conventional sea-based aquaculture is 2.65 kg CO2e/kg lw produced\n"
     ]
    }
   ],
   "source": [
    "electricity_use = 0.09 # kWH/kg lw produced (source: sintef report page 44)\n",
    "diesel_use = 0.01 # litres/kg lw produced (source: sintef report page 44)\n",
    "feed_conversion = 1.09 \n",
    "\n",
    "total_electricity_emission_base = electricity_use * electricity_emission\n",
    "total_diesel_emission_base = diesel_use * diesel_emission\n",
    "total_feed_emission_base = feed_conversion * feed_emission\n",
    "\n",
    "total_emission_base_case = total_electricity_emission_base + total_diesel_emission_base + total_feed_emission_base + total_emission_fish_farm_equipment\n",
    "print(f\"Total emission for conventional sea-based aquaculture is {round(total_emission_base_case, 2)} kg CO2e/kg lw produced\")"
   ],
   "metadata": {
    "collapsed": false,
    "ExecuteTime": {
     "end_time": "2024-04-24T06:50:03.240298300Z",
     "start_time": "2024-04-24T06:50:03.227337800Z"
    }
   },
   "id": "e59a1b0b678e16ab"
  },
  {
   "cell_type": "markdown",
   "source": [
    "#### Low GHG "
   ],
   "metadata": {
    "collapsed": false
   },
   "id": "6b078c0747f29e70"
  },
  {
   "cell_type": "code",
   "execution_count": 5,
   "outputs": [
    {
     "name": "stdout",
     "output_type": "stream",
     "text": [
      "Total emission for low GHG sea-based aquaculture is 2.62 kg CO2e/kg lw produced\n"
     ]
    }
   ],
   "source": [
    "electricity_use = 0.09 # kWH/kg lw produced (source: sintef report page 44)\n",
    "diesel_use = 0 # litres/kg lw produced (source: sintef report page 44)\n",
    "feed_conversion = 1.09\n",
    "\n",
    "total_electricity_emission_low_ghg = electricity_use * electricity_emission\n",
    "total_diesel_emission_low_ghg = diesel_use * diesel_emission\n",
    "total_feed_emission_low_ghg = feed_conversion * feed_emission\n",
    "\n",
    "total_emission_low_ghg = total_electricity_emission_low_ghg + total_diesel_emission_low_ghg + total_feed_emission_low_ghg + total_emission_fish_farm_equipment\n",
    "print(f\"Total emission for low GHG sea-based aquaculture is {round(total_emission_low_ghg, 2)} kg CO2e/kg lw produced\")"
   ],
   "metadata": {
    "collapsed": false,
    "ExecuteTime": {
     "end_time": "2024-04-24T06:50:05.845088100Z",
     "start_time": "2024-04-24T06:50:05.811198800Z"
    }
   },
   "id": "ef8c9955e90861f1"
  },
  {
   "cell_type": "markdown",
   "source": [
    "#### High GHG"
   ],
   "metadata": {
    "collapsed": false
   },
   "id": "1dd7b50cef833fb6"
  },
  {
   "cell_type": "code",
   "execution_count": 6,
   "outputs": [
    {
     "name": "stdout",
     "output_type": "stream",
     "text": [
      "Total emission for high GHG sea-based aquaculture is 2.73 kg CO2e/kg lw produced\n"
     ]
    }
   ],
   "source": [
    "electricity_use = 0 # kWH/kg lw produced (source: sintef report page 44)\n",
    "diesel_use = 0.04   # litres/kg lw produced (source: sintef report page 44)\n",
    "feed_conversion = 1.09\n",
    "\n",
    "total_electricity_emission_high_ghg = electricity_use * electricity_emission\n",
    "total_diesel_emission_high_ghg = diesel_use * diesel_emission\n",
    "total_feed_emission_high_ghg = feed_conversion * feed_emission\n",
    "\n",
    "total_emission_high_ghg = total_electricity_emission_high_ghg + total_diesel_emission_high_ghg + total_feed_emission_high_ghg + total_emission_fish_farm_equipment\n",
    "print(f\"Total emission for high GHG sea-based aquaculture is {round(total_emission_high_ghg, 2)} kg CO2e/kg lw produced\")"
   ],
   "metadata": {
    "collapsed": false,
    "ExecuteTime": {
     "end_time": "2024-04-24T06:50:07.651335700Z",
     "start_time": "2024-04-24T06:50:07.628395Z"
    }
   },
   "id": "97a1d1002976b4a0"
  },
  {
   "cell_type": "markdown",
   "source": [
    "## Landbaserte anlegg"
   ],
   "metadata": {
    "collapsed": false
   },
   "id": "326f59335eef14c7"
  },
  {
   "cell_type": "code",
   "execution_count": 7,
   "outputs": [],
   "source": [
    "electricity_use = 1 # kWh/kg (Source: Andfjord)\n",
    "diesel_use = 0 # litres/kg (Source: Andfjord)\n",
    "feed_conversion = 1.05\n",
    "\n",
    "total_electricity_emission_landbased = electricity_use * electricity_emission\n",
    "total_diesel_emission_landbased = diesel_use * diesel_emission\n",
    "total_feed_emission_landbased = feed_conversion * feed_emission"
   ],
   "metadata": {
    "collapsed": false,
    "ExecuteTime": {
     "end_time": "2024-04-24T06:50:09.818610Z",
     "start_time": "2024-04-24T06:50:09.802640200Z"
    }
   },
   "id": "cb7663febff941bc"
  },
  {
   "cell_type": "markdown",
   "source": [
    "#### Utslipp bygging av landbasert anlegg"
   ],
   "metadata": {
    "collapsed": false
   },
   "id": "bd64444c897e9e9"
  },
  {
   "cell_type": "code",
   "execution_count": 8,
   "outputs": [
    {
     "name": "stdout",
     "output_type": "stream",
     "text": [
      "Total material per kg lw produced is 0.6132 kg\n",
      "Total emission for building land-based aquaculture is 0.59 kg CO2e/kg lw produced\n"
     ]
    }
   ],
   "source": [
    "expected_lifetime = 20 # years\n",
    "yearly_capacity = 5000e3 # kg (source: konsekvensanalyse sintef rapport side 14)\n",
    "\n",
    "\n",
    "concrete = 58200e3 # kg (source: konsekvensanalyse sintef rapport side 14)\n",
    "PE_plastic = 809e3 # kg (source: konsekvensanalyse sintef rapport side 14)\n",
    "steel = 1430e3 # kg (source: konsekvensanalyse sintef rapport side 14)\n",
    "glass_fiber = 881e3 # kg (source: konsekvensanalyse sintef rapport side 14)\n",
    "\n",
    "total_material = concrete + PE_plastic + steel + glass_fiber\n",
    "total_salmon_produced = yearly_capacity * expected_lifetime\n",
    "material_per_kilo = total_material / total_salmon_produced\n",
    "\n",
    "\n",
    "print(f\"Total material per kg lw produced is {material_per_kilo} kg\")\n",
    "\n",
    "concrete_emission = 0.9 # kg CO2/kg (source: https://www.researchgate.net/figure/CO-2-emissions-in-kg-per-1kg-cement-produced-for-dry-and-wet-cement-production-process_tbl1_336590230\n",
    "plastic_emission = 3.11 # kg CO2/kg (source: https://lutpub.lut.fi/handle/10024/163642)\n",
    "steel_emission = 1.4 # kg CO2/kg (source: https://www.sustainable-ships.org/stories/2022/carbon-footprint-steel)\n",
    "glass_fiber_emission = 2.5 # kg CO2/kg (source: https://renewable-carbon.eu/news/natural-fibres-show-outstandingly-low-co2-footprint-compared-to-glass-and-mineral-fibres/)\n",
    "\n",
    "total_emission_building_landbased = concrete * concrete_emission + PE_plastic * plastic_emission + steel * steel_emission + glass_fiber * glass_fiber_emission\n",
    "\n",
    "\n",
    "total_emission_building_landbased_per_kg = total_emission_building_landbased / total_salmon_produced\n",
    "\n",
    "print(f\"Total emission for building land-based aquaculture is {round(total_emission_building_landbased_per_kg, 2)} kg CO2e/kg lw produced\")\n",
    "\n"
   ],
   "metadata": {
    "collapsed": false,
    "ExecuteTime": {
     "end_time": "2024-04-24T06:50:14.950117700Z",
     "start_time": "2024-04-24T06:50:14.919199300Z"
    }
   },
   "id": "6528d2823f31364f"
  },
  {
   "cell_type": "markdown",
   "source": [
    "#### Arealbruk"
   ],
   "metadata": {
    "collapsed": false
   },
   "id": "21ace24c655e6b62"
  },
  {
   "cell_type": "code",
   "execution_count": 9,
   "outputs": [
    {
     "name": "stdout",
     "output_type": "stream",
     "text": [
      "81000.0\n",
      "Total emission for land use in land-based aquaculture is 0.02 kg CO2e/kg lw produced\n",
      "Total emission for land-based aquaculture is 3.04 kg CO2e/kg lw produced\n"
     ]
    }
   ],
   "source": [
    "yearly_capacity = 9000 # tonn\n",
    "expected_lifetime = 20 # years\n",
    "\n",
    "# Hvor mye laks produseres\n",
    "total_salmon_produced = yearly_capacity * expected_lifetime\n",
    "\n",
    "\n",
    "# Hvor mye areal blir beslaglagt\n",
    "area_per_tonn_yearly_production = 6 # m^2 (source: konsekvensanalyse sintef rapport side 15)\n",
    "total_area_production = yearly_capacity * area_per_tonn_yearly_production\n",
    "tilleggs_faktor = 1.5\n",
    "total_area = tilleggs_faktor * total_area_production\n",
    "print(total_area)\n",
    "\n",
    "area_emissions = 48e-3 # kg CO2/m^2 (source: konsekvensanalyse sintef rapport side 14 )\n",
    "\n",
    "total_area_emission = total_area * area_emissions\n",
    "\n",
    "total_area_emission_per_kg = total_area_emission / total_salmon_produced\n",
    "\n",
    "print(f\"Total emission for land use in land-based aquaculture is {round(total_area_emission_per_kg, 2)} kg CO2e/kg lw produced\")\n",
    "\n",
    "building_emissions_landbased = total_emission_building_landbased_per_kg + total_area_emission_per_kg\n",
    "\n",
    "\n",
    "total_emission_landbased = total_electricity_emission_landbased + total_diesel_emission_landbased + total_feed_emission_landbased + building_emissions_landbased\n",
    "\n",
    "print(f\"Total emission for land-based aquaculture is {round(total_emission_landbased, 2)} kg CO2e/kg lw produced\")\n"
   ],
   "metadata": {
    "collapsed": false,
    "ExecuteTime": {
     "end_time": "2024-04-24T06:50:18.866098200Z",
     "start_time": "2024-04-24T06:50:18.844157800Z"
    }
   },
   "id": "358cbd7381ca58e2"
  },
  {
   "cell_type": "markdown",
   "source": [
    "## Analysis"
   ],
   "metadata": {
    "collapsed": false
   },
   "id": "122cd79a88fa9911"
  },
  {
   "cell_type": "code",
   "execution_count": 10,
   "outputs": [
    {
     "data": {
      "text/plain": "<Figure size 640x480 with 1 Axes>",
      "image/png": "[encoded data removed]"
     },
     "metadata": {},
     "output_type": "display_data"
    }
   ],
   "source": [
    "\n",
    "# Only plot base case and land-based\n",
    "total_emissions = [total_emission_low_ghg, total_emission_base_case, total_emission_high_ghg, total_emission_landbased]\n",
    "\n",
    "electricity_emissions = [total_electricity_emission_low_ghg, total_electricity_emission_base, total_electricity_emission_high_ghg, total_electricity_emission_landbased]\n",
    "diesel_emissions = [total_diesel_emission_low_ghg, total_diesel_emission_base, total_diesel_emission_high_ghg, total_diesel_emission_landbased]\n",
    "feed_emissions = [total_feed_emission_low_ghg, total_feed_emission_base, total_feed_emission_high_ghg, total_feed_emission_landbased]\n",
    "building_emissions = [0, 0, 0, building_emissions_landbased]\n",
    "fish_equipment_emissions = [total_emission_fish_farm_equipment, total_emission_fish_farm_equipment, total_emission_fish_farm_equipment, 0]\n",
    "\n",
    "labels = ['Kvaroy lavt utslipp', 'Kvaroy grunnlinje', 'Kvaroy hoyt utslipp', 'Andfjord landbasert']\n",
    "\n",
    "# make stacked bar plot\n",
    "fig, ax = plt.subplots()\n",
    "ax.bar(labels, electricity_emissions, label='Electricity')\n",
    "ax.bar(labels, diesel_emissions, bottom=electricity_emissions, label='Diesel')\n",
    "ax.bar(labels, feed_emissions, bottom=np.array(electricity_emissions) + np.array(diesel_emissions), label='Feed')\n",
    "ax.bar(labels, building_emissions, bottom=np.array(electricity_emissions) + np.array(diesel_emissions) + np.array(feed_emissions), label='Building')\n",
    "ax.bar(labels, fish_equipment_emissions, bottom=np.array(electricity_emissions) + np.array(diesel_emissions) + np.array(feed_emissions) + np.array(building_emissions), label='Fish farm equipment')\n",
    "\n",
    "ax.set_ylabel('kg CO2e/kg lw produced')\n",
    "ax.set_title('Emissions for different aquaculture systems')\n",
    "ax.legend()\n",
    "\n",
    "plt.show()\n",
    "# structure this data in a csv\n",
    "\n",
    "data = {'For': feed_emissions, 'Bygging og arealbruk': building_emissions, 'Oppdrettsutstyr': fish_equipment_emissions, 'Elektrisitet': electricity_emissions, 'Diesel': diesel_emissions}\n",
    "df = pd.DataFrame(data, index=labels)\n",
    "df = df.round(2)\n",
    "df.to_csv('emissions.csv')\n",
    "\n",
    "\n",
    "\n",
    "\n",
    "\n"
   ],
   "metadata": {
    "collapsed": false,
    "ExecuteTime": {
     "end_time": "2024-04-24T06:50:22.164063Z",
     "start_time": "2024-04-24T06:50:20.866236500Z"
    }
   },
   "id": "fa71acd8dc376835"
  }
 ],
 "metadata": {
  "kernelspec": {
   "display_name": "Python 3",
   "language": "python",
   "name": "python3"
  },
  "language_info": {
   "codemirror_mode": {
    "name": "ipython",
    "version": 2
   },
   "file_extension": ".py",
   "mimetype": "text/x-python",
   "name": "python",
   "nbconvert_exporter": "python",
   "pygments_lexer": "ipython2",
   "version": "2.7.6"
  }
 },
 "nbformat": 4,
 "nbformat_minor": 5
}
